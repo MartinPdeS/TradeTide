{
  "cells": [
    {
      "cell_type": "markdown",
      "metadata": {},
      "source": [
        "\n# Moving Average Crossings\n\nThis example demonstrates how to use the Moving Average Crossings indicator with the TradeTide library.\n"
      ]
    },
    {
      "cell_type": "code",
      "execution_count": null,
      "metadata": {
        "collapsed": false
      },
      "outputs": [],
      "source": [
        "from TradeTide.indicators import MovingAverageCrossing\nfrom TradeTide.market import Market\nfrom TradeTide.currencies import Currency\nfrom TradeTide.times import minutes\nfrom TradeTide.market import Market\nfrom TradeTide.currencies import Currency\n\nmarket = Market()\n\nmarket.load_from_database(\n    currency_0=Currency.CAD,\n    currency_1=Currency.USD,\n    time_span=30 * minutes,\n)\n\nindicator = MovingAverageCrossing(\n    short_window=3 * minutes,\n    long_window=5 * minutes,\n)\n\nindicator.run(market)\n\nindicator.plot()"
      ]
    }
  ],
  "metadata": {
    "kernelspec": {
      "display_name": "Python 3",
      "language": "python",
      "name": "python3"
    },
    "language_info": {
      "codemirror_mode": {
        "name": "ipython",
        "version": 3
      },
      "file_extension": ".py",
      "mimetype": "text/x-python",
      "name": "python",
      "nbconvert_exporter": "python",
      "pygments_lexer": "ipython3",
      "version": "3.11.13"
    }
  },
  "nbformat": 4,
  "nbformat_minor": 0
}