{
  "cells": [
    {
      "cell_type": "markdown",
      "metadata": {},
      "source": [
        "\n# Complete Trading Strategy Workflow with Bollinger Bands\n\nThis comprehensive example demonstrates a complete end-to-end trading workflow\nusing the TradeTide library. We'll build a Bollinger Bands-based trading strategy,\nbacktest it on historical CAD/USD data, and analyze the results.\n\nThe workflow covers:\n- Market data loading and visualization\n- Technical indicator configuration (Bollinger Bands)\n- Strategy setup and signal generation\n- Position management and risk controls\n- Portfolio simulation and performance analysis\n\nThis example is perfect for understanding how all TradeTide components work together\nto create a professional trading system.\n"
      ]
    },
    {
      "cell_type": "markdown",
      "metadata": {},
      "source": [
        "## Import Required Libraries\nWe start by importing all necessary modules from TradeTide and standard libraries.\n\n"
      ]
    },
    {
      "cell_type": "code",
      "execution_count": null,
      "metadata": {
        "collapsed": false
      },
      "outputs": [],
      "source": [
        "import matplotlib.pyplot as plt\nimport numpy as np\nfrom TradeTide import (\n    Strategy,\n    Portfolio,\n    PositionCollection,\n    Market,\n    Currency,\n    days,\n    hours,\n    minutes,\n)\nfrom TradeTide.indicators import BollingerBands\nfrom TradeTide import capital_management, exit_strategy\n\n# Configure matplotlib for better plots\nplt.style.use(\"seaborn-v0_8-darkgrid\")\nplt.rcParams[\"figure.figsize\"] = (12, 8)\nplt.rcParams[\"font.size\"] = 10"
      ]
    },
    {
      "cell_type": "markdown",
      "metadata": {},
      "source": [
        "## Load Market Data\nFirst, we load historical forex data for the CAD/USD currency pair.\nWe'll use 4 hours of data to demonstrate the strategy on recent market movements.\n\n"
      ]
    },
    {
      "cell_type": "code",
      "execution_count": null,
      "metadata": {
        "collapsed": false
      },
      "outputs": [],
      "source": [
        "market = Market()\n\n# Load 4 hours of CAD/USD data from the database\nmarket.load_from_database(\n    currency_0=Currency.CAD,\n    currency_1=Currency.USD,\n    time_span=4 * hours,\n)\n\n# Display basic market information\nmarket.display()"
      ]
    },
    {
      "cell_type": "markdown",
      "metadata": {},
      "source": [
        "## Configure Bollinger Bands Indicator\nWe'll use Bollinger Bands as our primary technical indicator. Bollinger Bands\nconsist of a moving average with upper and lower bands that expand and contract\nbased on market volatility.\n\n"
      ]
    },
    {
      "cell_type": "code",
      "execution_count": null,
      "metadata": {
        "collapsed": false
      },
      "outputs": [],
      "source": [
        "# Configure Bollinger Bands with 3-minute window and 1.0 standard deviation multiplier\nindicator = BollingerBands(\n    window=3 * minutes,  # Moving average window\n    multiplier=1.0,  # Standard deviation multiplier for bands\n)\n\n# Run the indicator on our market data\nindicator.run(market)"
      ]
    },
    {
      "cell_type": "markdown",
      "metadata": {},
      "source": [
        "## Build Trading Strategy\nNow we create a trading strategy that uses our Bollinger Bands indicator\nto generate buy and sell signals.\n\n"
      ]
    },
    {
      "cell_type": "code",
      "execution_count": null,
      "metadata": {
        "collapsed": false
      },
      "outputs": [],
      "source": [
        "# Create strategy and add our indicator\nstrategy = Strategy()\nstrategy.add_indicator(indicator)\n\n# Generate trading signals based on the strategy\ntrade_signals = strategy.get_trade_signal(market)\nsignal_count = np.count_nonzero(trade_signals)\n\nprint(f\"Strategy generated {signal_count} trading signals\")"
      ]
    },
    {
      "cell_type": "markdown",
      "metadata": {},
      "source": [
        "## Visualize Bollinger Bands and Market Data\nLet's plot the Bollinger Bands to visualize the indicator behavior\nand understand where trading signals are generated.\n\n"
      ]
    },
    {
      "cell_type": "code",
      "execution_count": null,
      "metadata": {
        "collapsed": false
      },
      "outputs": [],
      "source": [
        "# Create the indicator plot (shows only ask prices for clarity)\nfigure = indicator.plot(show=False)\n\nax = figure.axes[0]\n\n# Enhance the plot with additional information\nax.set_title(\"CAD/USD with Bollinger Bands Strategy\", fontsize=14, fontweight=\"bold\")\nax.set_xlabel(\"Time\", fontsize=12)\nax.set_ylabel(\"Price\", fontsize=12)\nax.grid(True, alpha=0.3)\n\n# Add legend\nax.legend(loc=\"upper left\", frameon=True, fancybox=True, shadow=True)\n\n# Show the plot\nplt.tight_layout()\n# plt.show()"
      ]
    },
    {
      "cell_type": "markdown",
      "metadata": {},
      "source": [
        "## Configure Risk Management\nBefore opening positions, we need to set up our exit strategy and risk management\nparameters to control losses and secure profits.\n\n"
      ]
    },
    {
      "cell_type": "code",
      "execution_count": null,
      "metadata": {
        "collapsed": false
      },
      "outputs": [],
      "source": [
        "# Set up static exit strategy with stop loss and take profit\nrisk_strategy = exit_strategy.Static(\n    stop_loss=4,  # Stop loss at 4 pips\n    take_profit=4,  # Take profit at 4 pips\n    save_price_data=True,  # Save price data for analysis\n)"
      ]
    },
    {
      "cell_type": "markdown",
      "metadata": {},
      "source": [
        "## Position Management\nCreate and manage trading positions based on our strategy signals.\n\n"
      ]
    },
    {
      "cell_type": "code",
      "execution_count": null,
      "metadata": {
        "collapsed": false
      },
      "outputs": [],
      "source": [
        "# Create position collection with our market data and trading signals\nposition_collection = PositionCollection(\n    market=market,\n    trade_signal=trade_signals,\n)\n\nposition_collection.plot()\n\n# Open positions based on signals and apply exit strategy\nposition_collection.open_positions(exit_strategy=risk_strategy)\n\n# Propagate positions through time to simulate trading\nposition_collection.propagate_positions()\n\ntotal_positions = len(position_collection)\nprint(f\"Opened {total_positions} positions during simulation\")"
      ]
    },
    {
      "cell_type": "markdown",
      "metadata": {},
      "source": [
        "## Capital Management Setup\nConfigure capital management rules to control position sizing and overall risk.\n\n"
      ]
    },
    {
      "cell_type": "code",
      "execution_count": null,
      "metadata": {
        "collapsed": false
      },
      "outputs": [],
      "source": [
        "# Configure fixed lot capital management\ncapital_mgmt = capital_management.FixedLot(\n    capital=1_000_000,  # Starting capital: $1M\n    fixed_lot_size=10_000,  # Fixed position size: $10K\n    max_capital_at_risk=100_000,  # Maximum capital at risk: $100K\n    max_concurrent_positions=100,  # Maximum concurrent positions: 100\n)"
      ]
    },
    {
      "cell_type": "markdown",
      "metadata": {},
      "source": [
        "## Portfolio Simulation\nRun the complete portfolio simulation to see how our strategy performs.\n\n"
      ]
    },
    {
      "cell_type": "code",
      "execution_count": null,
      "metadata": {
        "collapsed": false
      },
      "outputs": [],
      "source": [
        "# Create portfolio and run simulation\nportfolio = Portfolio(position_collection=position_collection, debug_mode=False)\nportfolio.simulate(capital_management=capital_mgmt)"
      ]
    },
    {
      "cell_type": "markdown",
      "metadata": {},
      "source": [
        "## Performance Analysis\nAnalyze the results of our trading strategy and display key performance metrics.\n\n"
      ]
    },
    {
      "cell_type": "code",
      "execution_count": null,
      "metadata": {
        "collapsed": false
      },
      "outputs": [],
      "source": [
        "# Get comprehensive performance metrics\nmetrics = portfolio.get_metrics()\n\n# Display all performance metrics\nmetrics.display()"
      ]
    },
    {
      "cell_type": "markdown",
      "metadata": {},
      "source": [
        "## Results Interpretation and Summary\nLet's interpret the results and provide insights about the strategy performance.\n\n"
      ]
    },
    {
      "cell_type": "code",
      "execution_count": null,
      "metadata": {
        "collapsed": false
      },
      "outputs": [],
      "source": [
        "print(\"\\n\" + \"=\" * 60)\nprint(\"STRATEGY INSIGHTS AND INTERPRETATION\")\nprint(\"=\" * 60)\n\n# Strategy summary\nprint(f\"\\nStrategy Summary:\")\nprint(f\"   - Indicator: Bollinger Bands (3-min window, 1.0 sigma)\")\nprint(f\"   - Risk Management: 4-pip stop loss & take profit\")\nprint(f\"   - Capital: $1M with $10K fixed lot sizes\")\nprint(f\"   - Time Period: 4 hours of CAD/USD data\")\nprint(f\"   - Total Positions: {total_positions}\")\n\nprint(f\"\\nKey Takeaways:\")\nprint(f\"   - This example demonstrates a complete TradeTide workflow\")\nprint(f\"   - Bollinger Bands provide volatility-based trading signals\")\nprint(f\"   - Risk management is crucial for protecting capital\")\nprint(f\"   - Portfolio simulation enables strategy evaluation\")\n\nprint(f\"\\nNext Steps:\")\nprint(f\"   - Experiment with different indicator parameters\")\nprint(f\"   - Try alternative exit strategies\")\nprint(f\"   - Test on different currency pairs and timeframes\")\nprint(f\"   - Implement additional technical indicators\")"
      ]
    },
    {
      "cell_type": "markdown",
      "metadata": {},
      "source": [
        "## Conclusion\nThis example showcased a complete trading workflow using TradeTide.\nThe modular design allows easy experimentation with different strategies,\nindicators, and risk management approaches.\n\nFor more advanced examples, explore:\n\n* Multi-indicator strategies\n* Dynamic exit strategies\n* Portfolio optimization\n* Walk-forward analysis\n\n"
      ]
    }
  ],
  "metadata": {
    "kernelspec": {
      "display_name": "Python 3",
      "language": "python",
      "name": "python3"
    },
    "language_info": {
      "codemirror_mode": {
        "name": "ipython",
        "version": 3
      },
      "file_extension": ".py",
      "mimetype": "text/x-python",
      "name": "python",
      "nbconvert_exporter": "python",
      "pygments_lexer": "ipython3",
      "version": "3.11.13"
    }
  },
  "nbformat": 4,
  "nbformat_minor": 0
}