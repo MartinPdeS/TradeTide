{
  "cells": [
    {
      "cell_type": "markdown",
      "metadata": {
        "id": "view-in-github",
        "colab_type": "text"
      },
      "source": [
        "<a href=\"https://colab.research.google.com/github/MartinPdeS/TradeTide/blob/master/notebook.ipynb\" target=\"_parent\"><img src=\"https://colab.research.google.com/assets/colab-badge.svg\" alt=\"Open In Colab\"/></a>"
      ]
    },
    {
      "cell_type": "markdown",
      "metadata": {
        "id": "R5xUQ2lfZ1Jn"
      },
      "source": [
        "Build latest package version\n",
        "============================\n"
      ]
    },
    {
      "cell_type": "code",
      "execution_count": null,
      "metadata": {
        "colab": {
          "base_uri": "https://localhost:8080/"
        },
        "id": "lwOEi7pZMPIa",
        "outputId": "a4936213-ce6d-41cd-b6d6-ccf6e71214d3"
      },
      "outputs": [
        {
          "name": "stdout",
          "output_type": "stream",
          "text": [
            "\u001b[2K   \u001b[90m━━━━━━━━━━━━━━━━━━━━━━━━━━━━━━━━━━━━━━━━\u001b[0m \u001b[32m4.5/4.5 MB\u001b[0m \u001b[31m13.4 MB/s\u001b[0m eta \u001b[36m0:00:00\u001b[0m\n",
            "\u001b[2K   \u001b[90m━━━━━━━━━━━━━━━━━━━━━━━━━━━━━━━━━━━━━━━━\u001b[0m \u001b[32m47.2/47.2 kB\u001b[0m \u001b[31m137.5 MB/s\u001b[0m eta \u001b[36m0:00:00\u001b[0m\n",
            "\u001b[2K   \u001b[90m━━━━━━━━━━━━━━━━━━━━━━━━━━━━━━━━━━━━━━━━\u001b[0m \u001b[32m43.9/43.9 kB\u001b[0m \u001b[31m103.2 MB/s\u001b[0m eta \u001b[36m0:00:00\u001b[0m\n",
            "\u001b[2K   \u001b[90m━━━━━━━━━━━━━━━━━━━━━━━━━━━━━━━━━━━━━━━━\u001b[0m \u001b[32m7.8/7.8 MB\u001b[0m \u001b[31m161.6 MB/s\u001b[0m eta \u001b[36m0:00:00\u001b[0m\n",
            "\u001b[2K   \u001b[90m━━━━━━━━━━━━━━━━━━━━━━━━━━━━━━━━━━━━━━━━\u001b[0m \u001b[32m101.7/101.7 kB\u001b[0m \u001b[31m124.7 MB/s\u001b[0m eta \u001b[36m0:00:00\u001b[0m\n",
            "\u001b[2K   \u001b[90m━━━━━━━━━━━━━━━━━━━━━━━━━━━━━━━━━━━━━━━━\u001b[0m \u001b[32m1.4/1.4 MB\u001b[0m \u001b[31m191.0 MB/s\u001b[0m eta \u001b[36m0:00:00\u001b[0m\n",
            "\u001b[2K   \u001b[90m━━━━━━━━━━━━━━━━━━━━━━━━━━━━━━━━━━━━━━━━\u001b[0m \u001b[32m301.8/301.8 kB\u001b[0m \u001b[31m159.9 MB/s\u001b[0m eta \u001b[36m0:00:00\u001b[0m\n",
            "\u001b[2K   \u001b[90m━━━━━━━━━━━━━━━━━━━━━━━━━━━━━━━━━━━━━━━━\u001b[0m \u001b[32m228.0/228.0 kB\u001b[0m \u001b[31m189.3 MB/s\u001b[0m eta \u001b[36m0:00:00\u001b[0m\n",
            "\u001b[2K   \u001b[90m━━━━━━━━━━━━━━━━━━━━━━━━━━━━━━━━━━━━━━━━\u001b[0m \u001b[32m2.2/2.2 MB\u001b[0m \u001b[31m161.4 MB/s\u001b[0m eta \u001b[36m0:00:00\u001b[0m\n",
            "\u001b[2K   \u001b[90m━━━━━━━━━━━━━━━━━━━━━━━━━━━━━━━━━━━━━━━━\u001b[0m \u001b[32m92.1/92.1 MB\u001b[0m \u001b[31m113.1 MB/s\u001b[0m eta \u001b[36m0:00:00\u001b[0m\n",
            "\u001b[?25h"
          ]
        }
      ],
      "source": [
        "!python -m pip install TradeTide --no-cache-dir --quiet"
      ]
    },
    {
      "cell_type": "markdown",
      "metadata": {
        "id": "QYdt8JUqprps"
      },
      "source": [
        "Experiment imports\n",
        "------------------"
      ]
    },
    {
      "cell_type": "code",
      "execution_count": null,
      "metadata": {
        "id": "h4ILEJ-Jm3qt"
      },
      "outputs": [],
      "source": [
        "import matplotlib.pyplot as plt\n",
        "from TradeTide import Backtester, Strategy, Market, Currency, days, hours, minutes\n",
        "from TradeTide.indicators import BollingerBands\n",
        "from TradeTide import capital_management, exit_strategy"
      ]
    },
    {
      "cell_type": "code",
      "execution_count": null,
      "metadata": {
        "id": "XizIYmO0_kZy"
      },
      "outputs": [],
      "source": [
        "market = Market()\n",
        "\n",
        "market.load_from_database(\n",
        "    currency_0=Currency.CAD,\n",
        "    currency_1=Currency.USD,\n",
        "    time_span=100 * days,\n",
        ")\n",
        "\n",
        "print(f\"Loaded {len(market.dates)} data points over {100} days\")"
      ]
    },
    {
      "cell_type": "code",
      "source": [
        "indicator = BollingerBands(\n",
        "    window=3 * minutes,\n",
        "    multiplier=2.0\n",
        ")\n",
        "\n",
        "indicator.run(market)\n",
        "\n",
        "strategy = Strategy()\n",
        "strategy.add_indicator(indicator)"
      ],
      "metadata": {
        "id": "w8Wa8vBgczyT"
      },
      "execution_count": null,
      "outputs": []
    },
    {
      "cell_type": "code",
      "source": [
        "exit_strat = exit_strategy.Static(\n",
        "    stop_loss=4,\n",
        "    take_profit=4,\n",
        "    save_price_data=True\n",
        ")\n",
        "\n",
        "capital_mgmt = capital_management.FixedLot(\n",
        "    capital=1_000_000,\n",
        "    fixed_lot_size=10_000,\n",
        "    max_capital_at_risk=100_000,\n",
        "    max_concurrent_positions=100,\n",
        ")"
      ],
      "metadata": {
        "id": "FCLFUeSpc4RD"
      },
      "execution_count": null,
      "outputs": []
    },
    {
      "cell_type": "code",
      "source": [
        "backtester = Backtester(\n",
        "    strategy=strategy,\n",
        "    exit_strategy=exit_strat,\n",
        "    market=market,\n",
        "    capital_management=capital_mgmt,\n",
        ")\n",
        "\n",
        "backtester.run()"
      ],
      "metadata": {
        "id": "3WcZapBvc57z"
      },
      "execution_count": null,
      "outputs": []
    },
    {
      "cell_type": "code",
      "source": [
        "backtester.print_performance()"
      ],
      "metadata": {
        "id": "tB855zlOc7SB"
      },
      "execution_count": null,
      "outputs": []
    }
  ],
  "metadata": {
    "colab": {
      "provenance": [],
      "include_colab_link": true
    },
    "kernelspec": {
      "display_name": "Python 3",
      "name": "python3"
    }
  },
  "nbformat": 4,
  "nbformat_minor": 0
}