{
  "cells": [
    {
      "cell_type": "markdown",
      "metadata": {},
      "source": [
        "\n# Relative Momentum Index\n\nThis example demonstrates how to use the Relative Momentum Index (RMI) indicator\n"
      ]
    },
    {
      "cell_type": "code",
      "execution_count": null,
      "metadata": {
        "collapsed": false
      },
      "outputs": [],
      "source": [
        "from TradeTide.indicators import RelativeMomentumIndex\nfrom TradeTide.market import Market\nfrom TradeTide.currencies import Currency\nfrom TradeTide.times import days, minutes\nfrom TradeTide.market import Market\nfrom TradeTide.currencies import Currency\n\nmarket = Market()\n\nmarket.load_from_database(\n    currency_0=Currency.CAD,\n    currency_1=Currency.USD,\n    time_span=30 * minutes,\n)\n\nindicator = RelativeMomentumIndex(\n    momentum_period=3 * minutes,\n    smooth_window=5 * minutes,\n    over_bought=70.0,\n    over_sold=30.0,\n)\n\nindicator.run(market)\n\nindicator.plot()"
      ]
    }
  ],
  "metadata": {
    "kernelspec": {
      "display_name": "Python 3",
      "language": "python",
      "name": "python3"
    },
    "language_info": {
      "codemirror_mode": {
        "name": "ipython",
        "version": 3
      },
      "file_extension": ".py",
      "mimetype": "text/x-python",
      "name": "python",
      "nbconvert_exporter": "python",
      "pygments_lexer": "ipython3",
      "version": "3.11.13"
    }
  },
  "nbformat": 4,
  "nbformat_minor": 0
}