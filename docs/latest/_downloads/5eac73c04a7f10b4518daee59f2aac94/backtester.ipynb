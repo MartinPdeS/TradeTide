{
  "cells": [
    {
      "cell_type": "markdown",
      "metadata": {},
      "source": [
        "\n# Automated Backtesting with Bollinger Bands Strategy\n\nThis example demonstrates how to use TradeTide's Backtester class for automated\nstrategy evaluation. The Backtester streamlines the entire workflow by handling\nposition management, portfolio simulation, and performance analysis automatically.\n\nWe'll test a Bollinger Bands strategy on 100 days of CAD/USD data to evaluate\nits historical performance and risk characteristics.\n"
      ]
    },
    {
      "cell_type": "markdown",
      "metadata": {},
      "source": [
        "## Import Libraries and Setup\n\n"
      ]
    },
    {
      "cell_type": "code",
      "execution_count": null,
      "metadata": {
        "collapsed": false
      },
      "outputs": [],
      "source": [
        "import matplotlib.pyplot as plt\nfrom TradeTide import Backtester, Strategy, Market, Currency, days, hours, minutes\nfrom TradeTide.indicators import BollingerBands\nfrom TradeTide import capital_management, exit_strategy\n\n# Configure plotting\nplt.style.use('seaborn-v0_8-darkgrid')\nplt.rcParams['figure.figsize'] = (12, 6)"
      ]
    },
    {
      "cell_type": "markdown",
      "metadata": {},
      "source": [
        "## Load Historical Market Data\nLoad 100 days of CAD/USD forex data for comprehensive backtesting.\n\n"
      ]
    },
    {
      "cell_type": "code",
      "execution_count": null,
      "metadata": {
        "collapsed": false
      },
      "outputs": [],
      "source": [
        "market = Market()\n\nmarket.load_from_database(\n    currency_0=Currency.CAD,\n    currency_1=Currency.USD,\n    time_span=2 * days,\n)\n\nprint(f\"Loaded {len(market.dates)} data points over {100} days\")"
      ]
    },
    {
      "cell_type": "markdown",
      "metadata": {},
      "source": [
        "## Configure Trading Strategy\nSet up a Bollinger Bands strategy with 2.0 standard deviation bands\nfor more conservative signal generation.\n\n"
      ]
    },
    {
      "cell_type": "code",
      "execution_count": null,
      "metadata": {
        "collapsed": false
      },
      "outputs": [],
      "source": [
        "indicator = BollingerBands(\n    window=3 * minutes,\n    multiplier=2.0\n)\n\nindicator.run(market)\n\nstrategy = Strategy()\nstrategy.add_indicator(indicator)"
      ]
    },
    {
      "cell_type": "markdown",
      "metadata": {},
      "source": [
        "## Define Risk Management\nConfigure exit strategy and capital management parameters.\n\n"
      ]
    },
    {
      "cell_type": "code",
      "execution_count": null,
      "metadata": {
        "collapsed": false
      },
      "outputs": [],
      "source": [
        "exit_strat = exit_strategy.Static(\n    stop_loss=4,\n    take_profit=4,\n    save_price_data=True\n)\n\ncapital_mgmt = capital_management.FixedLot(\n    capital=1_000,\n    fixed_lot_size=10,\n    max_capital_at_risk=100_000,\n    max_concurrent_positions=10,\n)"
      ]
    },
    {
      "cell_type": "markdown",
      "metadata": {},
      "source": [
        "## Run Backtest\nThe Backtester automatically handles the complete workflow:\nstrategy execution, position management, and performance calculation.\n\n"
      ]
    },
    {
      "cell_type": "code",
      "execution_count": null,
      "metadata": {
        "collapsed": false
      },
      "outputs": [],
      "source": [
        "backtester = Backtester(\n    strategy=strategy,\n    exit_strategy=exit_strat,\n    market=market,\n    capital_management=capital_mgmt,\n)\n\nbacktester.run()\n\nbacktester.plot_summary()\n\n# print(backtester.portfolio)"
      ]
    },
    {
      "cell_type": "markdown",
      "metadata": {},
      "source": [
        "## Display Results\nView comprehensive performance metrics and analysis.\n\n"
      ]
    },
    {
      "cell_type": "code",
      "execution_count": null,
      "metadata": {
        "collapsed": false
      },
      "outputs": [],
      "source": [
        "backtester.print_performance()"
      ]
    }
  ],
  "metadata": {
    "kernelspec": {
      "display_name": "Python 3",
      "language": "python",
      "name": "python3"
    },
    "language_info": {
      "codemirror_mode": {
        "name": "ipython",
        "version": 3
      },
      "file_extension": ".py",
      "mimetype": "text/x-python",
      "name": "python",
      "nbconvert_exporter": "python",
      "pygments_lexer": "ipython3",
      "version": "3.11.13"
    }
  },
  "nbformat": 4,
  "nbformat_minor": 0
}