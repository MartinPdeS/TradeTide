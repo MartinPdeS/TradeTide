{
  "cells": [
    {
      "cell_type": "markdown",
      "metadata": {},
      "source": [
        "\n# Trading Workflow Example\n\nThis example demonstrates a complete trading workflow using the TradeTide library.\n"
      ]
    },
    {
      "cell_type": "code",
      "execution_count": null,
      "metadata": {
        "collapsed": false
      },
      "outputs": [],
      "source": [
        "from TradeTide import Strategy, Portfolio, PositionCollection, Market, Currency, days, hours, minutes\nfrom TradeTide.indicators import BollingerBands\nfrom TradeTide import capital_management, exit_strategy\n\nmarket = Market()\n\nmarket.load_from_database(\n    currency_0=Currency.CAD,\n    currency_1=Currency.USD,\n    time_span=4 * hours,\n)\n\n# market.display()\n\n\nindicator = BollingerBands(\n    window=3 * minutes,\n    multiplier=2.0\n)\n\nindicator.run(market)\n\nstrategy = Strategy()\n\nstrategy.add_indicator(indicator)\n\nindicator.plot(show_bid=False)\n\nexit_strategy = exit_strategy.Static(\n    stop_loss=4,\n    take_profit=4,\n    save_price_data=True\n)\n\nposition_collection = PositionCollection(\n    market=market,\n    trade_signal=strategy.get_trade_signal(market),\n)\n\nposition_collection.open_positions(exit_strategy=exit_strategy)\n\nposition_collection.propagate_positions()\n\ncapital_management = capital_management.FixedLot(\n    capital=1_000_000,\n    fixed_lot_size=10_000,\n    max_capital_at_risk=100_000,\n    max_concurrent_positions=100,\n)\n\nportfolio  = Portfolio(position_collection=position_collection, debug_mode=False)\n\nportfolio.simulate(capital_management=capital_management)\n\nmetrics = portfolio.get_metrics()\n\nmetrics.display()"
      ]
    }
  ],
  "metadata": {
    "kernelspec": {
      "display_name": "Python 3",
      "language": "python",
      "name": "python3"
    },
    "language_info": {
      "codemirror_mode": {
        "name": "ipython",
        "version": 3
      },
      "file_extension": ".py",
      "mimetype": "text/x-python",
      "name": "python",
      "nbconvert_exporter": "python",
      "pygments_lexer": "ipython3",
      "version": "3.11.13"
    }
  },
  "nbformat": 4,
  "nbformat_minor": 0
}